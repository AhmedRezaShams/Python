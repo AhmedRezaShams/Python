{
  "nbformat": 4,
  "nbformat_minor": 0,
  "metadata": {
    "colab": {
      "provenance": [],
      "include_colab_link": true
    },
    "kernelspec": {
      "name": "python3",
      "display_name": "Python 3"
    },
    "language_info": {
      "name": "python"
    }
  },
  "cells": [
    {
      "cell_type": "markdown",
      "metadata": {
        "id": "view-in-github",
        "colab_type": "text"
      },
      "source": [
        "<a href=\"https://colab.research.google.com/github/AhmedRezaShams/Python/blob/main/ANN_Mid_of_Stroke.ipynb\" target=\"_parent\"><img src=\"https://colab.research.google.com/assets/colab-badge.svg\" alt=\"Open In Colab\"/></a>"
      ]
    },
    {
      "cell_type": "code",
      "execution_count": null,
      "metadata": {
        "colab": {
          "base_uri": "https://localhost:8080/"
        },
        "id": "iEJqSXryvk4z",
        "outputId": "96424389-7c15-4efa-e536-f2b76fa66c5a"
      },
      "outputs": [
        {
          "output_type": "stream",
          "name": "stdout",
          "text": [
            "Archive:  stroke.zip\n",
            "  inflating: healthcare-dataset-stroke-data.csv  \n"
          ]
        }
      ],
      "source": [
        "!pip install -U -q PyDrive\n",
        "from pydrive.auth import GoogleAuth\n",
        "from pydrive.drive import GoogleDrive\n",
        "from google.colab import auth\n",
        "from oauth2client.client import GoogleCredentials\n",
        "auth.authenticate_user()\n",
        "gauth = GoogleAuth()\n",
        "gauth.credentials = GoogleCredentials.get_application_default()\n",
        "drive = GoogleDrive(gauth) #1st theke ei line porjonto google ID authentication kora hoise\n",
        "fid = drive.ListFile({'q':\"title='stroke.zip'\"}).GetList()[0]['id'] #ekhane drive er moddhe file ta khoja hoise\n",
        "f = drive.CreateFile({'id': fid})\n",
        "f.GetContentFile('stroke.zip')\n",
        "f.keys()\n",
        "!unzip stroke.zip"
      ]
    },
    {
      "cell_type": "code",
      "source": [
        "import pandas as pd\n",
        "import numpy as np\n",
        "from sklearn.model_selection import train_test_split\n",
        "from sklearn.preprocessing import LabelEncoder\n",
        "from keras.models import Sequential\n",
        "from keras.layers import Dense"
      ],
      "metadata": {
        "id": "Z8VCyY8yv89-"
      },
      "execution_count": null,
      "outputs": []
    },
    {
      "cell_type": "code",
      "source": [
        "data = pd.read_csv(\"/content/healthcare-dataset-stroke-data.csv\")\n",
        "\n",
        "data = data.dropna()"
      ],
      "metadata": {
        "id": "mg6h4HI-v9DE"
      },
      "execution_count": null,
      "outputs": []
    },
    {
      "cell_type": "code",
      "source": [
        "categorical_cols = data.select_dtypes(include=[\"object\"]).columns\n",
        "encoder = LabelEncoder()\n",
        "for col in categorical_cols:\n",
        "    data[col] = encoder.fit_transform(data[col])"
      ],
      "metadata": {
        "id": "zx2Gf7A-v9F_"
      },
      "execution_count": null,
      "outputs": []
    },
    {
      "cell_type": "code",
      "source": [
        "X = data.drop(\"stroke\", axis=1)\n",
        "y = data[\"stroke\"]\n",
        "X_train, X_test, y_train, y_test = train_test_split(X, y, test_size=0.2, random_state=True)"
      ],
      "metadata": {
        "id": "fCDDOrpEwIgJ"
      },
      "execution_count": null,
      "outputs": []
    },
    {
      "cell_type": "code",
      "source": [
        "model = Sequential()\n",
        "model.add(Dense(32, input_dim=X_train.shape[1], activation=\"relu\"))\n",
        "model.add(Dense(16, activation=\"relu\"))\n",
        "model.add(Dense(8, activation=\"relu\"))\n",
        "model.add(Dense(1, activation=\"sigmoid\"))"
      ],
      "metadata": {
        "id": "9VIhm_SXwIqJ"
      },
      "execution_count": null,
      "outputs": []
    },
    {
      "cell_type": "code",
      "source": [
        "model.compile(loss=\"binary_crossentropy\", optimizer=\"adam\", metrics=[\"accuracy\"])\n",
        "\n",
        "\n",
        "model.fit(X_train, y_train, epochs=50, batch_size=32, verbose=2)"
      ],
      "metadata": {
        "colab": {
          "base_uri": "https://localhost:8080/"
        },
        "id": "ECEqhScJwQQY",
        "outputId": "22d801f8-6f22-49d9-fe7e-23f7ca2643d3"
      },
      "execution_count": null,
      "outputs": [
        {
          "output_type": "stream",
          "name": "stdout",
          "text": [
            "Epoch 1/50\n",
            "123/123 - 2s - loss: 95.9480 - accuracy: 0.9078 - 2s/epoch - 13ms/step\n",
            "Epoch 2/50\n",
            "123/123 - 0s - loss: 17.9410 - accuracy: 0.9152 - 199ms/epoch - 2ms/step\n",
            "Epoch 3/50\n",
            "123/123 - 0s - loss: 17.1594 - accuracy: 0.9167 - 212ms/epoch - 2ms/step\n",
            "Epoch 4/50\n",
            "123/123 - 0s - loss: 18.1547 - accuracy: 0.9177 - 196ms/epoch - 2ms/step\n",
            "Epoch 5/50\n",
            "123/123 - 0s - loss: 16.7643 - accuracy: 0.9216 - 197ms/epoch - 2ms/step\n",
            "Epoch 6/50\n",
            "123/123 - 0s - loss: 22.9689 - accuracy: 0.9188 - 219ms/epoch - 2ms/step\n",
            "Epoch 7/50\n",
            "123/123 - 0s - loss: 14.4188 - accuracy: 0.9091 - 232ms/epoch - 2ms/step\n",
            "Epoch 8/50\n",
            "123/123 - 0s - loss: 15.2941 - accuracy: 0.9083 - 296ms/epoch - 2ms/step\n",
            "Epoch 9/50\n",
            "123/123 - 0s - loss: 20.4670 - accuracy: 0.9218 - 294ms/epoch - 2ms/step\n",
            "Epoch 10/50\n",
            "123/123 - 0s - loss: 11.5483 - accuracy: 0.9119 - 336ms/epoch - 3ms/step\n",
            "Epoch 11/50\n",
            "123/123 - 0s - loss: 16.5711 - accuracy: 0.9170 - 300ms/epoch - 2ms/step\n",
            "Epoch 12/50\n",
            "123/123 - 0s - loss: 16.2999 - accuracy: 0.9203 - 308ms/epoch - 3ms/step\n",
            "Epoch 13/50\n",
            "123/123 - 0s - loss: 15.0639 - accuracy: 0.9172 - 305ms/epoch - 2ms/step\n",
            "Epoch 14/50\n",
            "123/123 - 0s - loss: 12.2057 - accuracy: 0.9170 - 337ms/epoch - 3ms/step\n",
            "Epoch 15/50\n",
            "123/123 - 0s - loss: 10.6485 - accuracy: 0.9165 - 308ms/epoch - 3ms/step\n",
            "Epoch 16/50\n",
            "123/123 - 0s - loss: 16.0026 - accuracy: 0.9147 - 292ms/epoch - 2ms/step\n",
            "Epoch 17/50\n",
            "123/123 - 0s - loss: 12.6802 - accuracy: 0.9157 - 198ms/epoch - 2ms/step\n",
            "Epoch 18/50\n",
            "123/123 - 0s - loss: 10.3522 - accuracy: 0.9234 - 200ms/epoch - 2ms/step\n",
            "Epoch 19/50\n",
            "123/123 - 0s - loss: 10.6360 - accuracy: 0.9144 - 205ms/epoch - 2ms/step\n",
            "Epoch 20/50\n",
            "123/123 - 0s - loss: 12.8822 - accuracy: 0.9172 - 188ms/epoch - 2ms/step\n",
            "Epoch 21/50\n",
            "123/123 - 0s - loss: 8.4706 - accuracy: 0.9149 - 202ms/epoch - 2ms/step\n",
            "Epoch 22/50\n",
            "123/123 - 0s - loss: 10.3916 - accuracy: 0.9244 - 205ms/epoch - 2ms/step\n",
            "Epoch 23/50\n",
            "123/123 - 0s - loss: 8.7022 - accuracy: 0.9063 - 199ms/epoch - 2ms/step\n",
            "Epoch 24/50\n",
            "123/123 - 0s - loss: 9.4484 - accuracy: 0.9162 - 192ms/epoch - 2ms/step\n",
            "Epoch 25/50\n",
            "123/123 - 0s - loss: 9.3040 - accuracy: 0.9193 - 203ms/epoch - 2ms/step\n",
            "Epoch 26/50\n",
            "123/123 - 0s - loss: 8.9609 - accuracy: 0.9231 - 200ms/epoch - 2ms/step\n",
            "Epoch 27/50\n",
            "123/123 - 0s - loss: 8.7104 - accuracy: 0.9106 - 198ms/epoch - 2ms/step\n",
            "Epoch 28/50\n",
            "123/123 - 0s - loss: 8.2889 - accuracy: 0.9208 - 210ms/epoch - 2ms/step\n",
            "Epoch 29/50\n",
            "123/123 - 0s - loss: 10.7623 - accuracy: 0.9251 - 197ms/epoch - 2ms/step\n",
            "Epoch 30/50\n",
            "123/123 - 0s - loss: 8.4267 - accuracy: 0.9193 - 203ms/epoch - 2ms/step\n",
            "Epoch 31/50\n",
            "123/123 - 0s - loss: 8.2933 - accuracy: 0.9134 - 193ms/epoch - 2ms/step\n",
            "Epoch 32/50\n",
            "123/123 - 0s - loss: 7.9768 - accuracy: 0.9165 - 193ms/epoch - 2ms/step\n",
            "Epoch 33/50\n",
            "123/123 - 0s - loss: 7.8274 - accuracy: 0.9137 - 209ms/epoch - 2ms/step\n",
            "Epoch 34/50\n",
            "123/123 - 0s - loss: 6.9350 - accuracy: 0.9119 - 197ms/epoch - 2ms/step\n",
            "Epoch 35/50\n",
            "123/123 - 0s - loss: 9.3714 - accuracy: 0.9180 - 230ms/epoch - 2ms/step\n",
            "Epoch 36/50\n",
            "123/123 - 0s - loss: 6.7731 - accuracy: 0.9111 - 206ms/epoch - 2ms/step\n",
            "Epoch 37/50\n",
            "123/123 - 0s - loss: 9.3651 - accuracy: 0.9160 - 229ms/epoch - 2ms/step\n",
            "Epoch 38/50\n",
            "123/123 - 0s - loss: 7.8762 - accuracy: 0.9188 - 217ms/epoch - 2ms/step\n",
            "Epoch 39/50\n",
            "123/123 - 0s - loss: 7.1218 - accuracy: 0.9172 - 193ms/epoch - 2ms/step\n",
            "Epoch 40/50\n",
            "123/123 - 0s - loss: 6.9728 - accuracy: 0.9190 - 196ms/epoch - 2ms/step\n",
            "Epoch 41/50\n",
            "123/123 - 0s - loss: 6.4350 - accuracy: 0.9152 - 197ms/epoch - 2ms/step\n",
            "Epoch 42/50\n",
            "123/123 - 0s - loss: 5.5973 - accuracy: 0.9172 - 189ms/epoch - 2ms/step\n",
            "Epoch 43/50\n",
            "123/123 - 0s - loss: 5.0313 - accuracy: 0.9132 - 219ms/epoch - 2ms/step\n",
            "Epoch 44/50\n",
            "123/123 - 0s - loss: 6.4313 - accuracy: 0.9203 - 224ms/epoch - 2ms/step\n",
            "Epoch 45/50\n",
            "123/123 - 0s - loss: 4.7520 - accuracy: 0.9195 - 218ms/epoch - 2ms/step\n",
            "Epoch 46/50\n",
            "123/123 - 0s - loss: 4.2669 - accuracy: 0.9162 - 220ms/epoch - 2ms/step\n",
            "Epoch 47/50\n",
            "123/123 - 0s - loss: 9.1840 - accuracy: 0.9188 - 224ms/epoch - 2ms/step\n",
            "Epoch 48/50\n",
            "123/123 - 0s - loss: 5.5746 - accuracy: 0.9239 - 194ms/epoch - 2ms/step\n",
            "Epoch 49/50\n",
            "123/123 - 0s - loss: 5.1825 - accuracy: 0.9088 - 211ms/epoch - 2ms/step\n",
            "Epoch 50/50\n",
            "123/123 - 0s - loss: 7.0299 - accuracy: 0.9282 - 188ms/epoch - 2ms/step\n"
          ]
        },
        {
          "output_type": "execute_result",
          "data": {
            "text/plain": [
              "<keras.callbacks.History at 0x7f7f9d293d30>"
            ]
          },
          "metadata": {},
          "execution_count": 7
        }
      ]
    },
    {
      "cell_type": "code",
      "source": [
        "loss, accuracy = model.evaluate(X_test, y_test)\n",
        "print(\"Test accuracy:\", accuracy)"
      ],
      "metadata": {
        "colab": {
          "base_uri": "https://localhost:8080/"
        },
        "id": "XlT3RyFJwV0Y",
        "outputId": "fdb60638-32a4-44f9-e0aa-d20d2fb077bd"
      },
      "execution_count": null,
      "outputs": [
        {
          "output_type": "stream",
          "name": "stdout",
          "text": [
            "31/31 [==============================] - 0s 1ms/step - loss: 9.6971 - accuracy: 0.9481\n",
            "Test accuracy: 0.9480651617050171\n"
          ]
        }
      ]
    }
  ]
}