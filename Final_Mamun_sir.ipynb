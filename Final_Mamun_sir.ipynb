{
  "nbformat": 4,
  "nbformat_minor": 0,
  "metadata": {
    "colab": {
      "provenance": [],
      "include_colab_link": true
    },
    "kernelspec": {
      "name": "python3",
      "display_name": "Python 3"
    },
    "language_info": {
      "name": "python"
    }
  },
  "cells": [
    {
      "cell_type": "markdown",
      "metadata": {
        "id": "view-in-github",
        "colab_type": "text"
      },
      "source": [
        "<a href=\"https://colab.research.google.com/github/AhmedRezaShams/Python/blob/main/Final_Mamun_sir.ipynb\" target=\"_parent\"><img src=\"https://colab.research.google.com/assets/colab-badge.svg\" alt=\"Open In Colab\"/></a>"
      ]
    },
    {
      "cell_type": "code",
      "source": [
        "import pandas as pd\n",
        "import numpy as np\n",
        "from sklearn.model_selection import train_test_split\n",
        "from sklearn.preprocessing import LabelEncoder\n",
        "from keras.models import Sequential\n",
        "from keras.layers import Dense"
      ],
      "metadata": {
        "id": "Z8VCyY8yv89-"
      },
      "execution_count": null,
      "outputs": []
    },
    {
      "cell_type": "code",
      "source": [
        "#a)\n",
        "data = pd.read_csv(\"/content/Customers211.csv\")\n",
        "\n"
      ],
      "metadata": {
        "id": "mg6h4HI-v9DE"
      },
      "execution_count": null,
      "outputs": []
    },
    {
      "cell_type": "code",
      "source": [
        "#b)\n",
        "data.fillna(data.mean(numeric_only=True).round(1), inplace=True)\n",
        "\n",
        "#For median:\n",
        "data.fillna(data.median(numeric_only=True).round(1), inplace=True)\n",
        "data. replace(np. nan,0)\n",
        "\n",
        "print(data)"
      ],
      "metadata": {
        "colab": {
          "base_uri": "https://localhost:8080/"
        },
        "id": "FmMUT_21Uibu",
        "outputId": "8ea8fc15-5a27-40b0-dda0-81bc69eb9c1c"
      },
      "execution_count": null,
      "outputs": [
        {
          "output_type": "stream",
          "name": "stdout",
          "text": [
            "     ID   Name   Gender   PO BOX  Email   CNIC  DOB  Registered_Age  Mobile  \\\n",
            "0   1001      2        1       8       1     1    0            30.0       2   \n",
            "1   1002      1        1       2       0     2    1            25.0       3   \n",
            "2   1003     23        0       1      22     3   13            15.0       4   \n",
            "3   1004     12        0       5      11     4    4             8.0       1   \n",
            "4   1005      4        1       4       3     5    6             8.0       5   \n",
            "5   1006     13        1       5      12     6    8             9.0       6   \n",
            "6   1007      3        1       6       2     7    5            12.0       7   \n",
            "7   1008      8        1       7       7     8    9            14.0       8   \n",
            "8   1009     29        0       9      27    29   10            20.0       9   \n",
            "9   1010     24        1       2      23    10   11            23.0      10   \n",
            "10  1011     17        1       1      16    11   12            20.0      11   \n",
            "11  1012      6        1       5       5    12   14            23.0      12   \n",
            "12  1013      5        1       4       4    13   16            25.0      13   \n",
            "13  1014     16        1       5      15    14   18            25.0      14   \n",
            "14  1015     15        1       6      14    15   17            30.0      15   \n",
            "15  1016     11        1       7      10    16   21            31.0      16   \n",
            "16  1017     14        1       1      13    17   20            21.7      17   \n",
            "17  1018     27        1       2      26    18   24            30.0      18   \n",
            "18  1019     26        1       1      25     0   19            35.0      19   \n",
            "19  1020     21        1       5      20    19   23            30.0      20   \n",
            "20  1021     20        1       4      19    20    2            14.0      21   \n",
            "21  1022     28        1       5      29    21    3            13.0      22   \n",
            "22  1023     22        1       6      21    22    7            21.7      23   \n",
            "23  1024      7        1       0       6    23   22            23.0      24   \n",
            "24  1025     18        1       5      17    24   18            25.0       0   \n",
            "25  1026     19        1       6      18    25   17            26.0      29   \n",
            "26  1027     10        1       7       9    26   21            32.0      25   \n",
            "27  1028      9        1       1       8    27   11            21.0      26   \n",
            "28  1029     25        1       2      24    28   12            20.0      27   \n",
            "29  1030      0        1       3      28     9   15            20.0      28   \n",
            "\n",
            "    Religion  \n",
            "0          2  \n",
            "1          3  \n",
            "2          3  \n",
            "3          3  \n",
            "4          3  \n",
            "5          1  \n",
            "6          3  \n",
            "7          3  \n",
            "8          3  \n",
            "9          3  \n",
            "10         3  \n",
            "11         3  \n",
            "12         3  \n",
            "13         3  \n",
            "14         2  \n",
            "15         3  \n",
            "16         3  \n",
            "17         3  \n",
            "18         3  \n",
            "19         3  \n",
            "20         3  \n",
            "21         3  \n",
            "22         3  \n",
            "23         2  \n",
            "24         3  \n",
            "25         3  \n",
            "26         3  \n",
            "27         3  \n",
            "28         0  \n",
            "29         0  \n"
          ]
        }
      ]
    },
    {
      "cell_type": "code",
      "source": [
        "#c)\n",
        "categorical_cols = data.select_dtypes(include=[\"object\"]).columns\n",
        "encoder = LabelEncoder()\n",
        "for col in categorical_cols:\n",
        "    data[col] = encoder.fit_transform(data[col])"
      ],
      "metadata": {
        "id": "zx2Gf7A-v9F_"
      },
      "execution_count": null,
      "outputs": []
    },
    {
      "cell_type": "code",
      "source": [
        "#d)\n",
        "from pydantic import BaseModel\n",
        "\n",
        "\n",
        "class User(BaseModel):\n",
        "    id: int\n",
        "    name: str = 'Name'\n",
        "\n",
        "    class Config:\n",
        "        orm_mode = True"
      ],
      "metadata": {
        "id": "VKURjDi6Zqb_"
      },
      "execution_count": null,
      "outputs": []
    },
    {
      "cell_type": "code",
      "source": [
        "X = data.drop(\"Religion\", axis=1)\n",
        "y = data[\"Religion\"]\n",
        "X_train, X_test, y_train, y_test = train_test_split(X, y, test_size=0.2, random_state=True)"
      ],
      "metadata": {
        "id": "fCDDOrpEwIgJ"
      },
      "execution_count": null,
      "outputs": []
    },
    {
      "cell_type": "code",
      "source": [
        "model = Sequential()\n",
        "model.add(Dense(32, input_dim=X_train.shape[1], activation=\"relu\"))\n",
        "model.add(Dense(16, activation=\"relu\"))\n",
        "model.add(Dense(8, activation=\"relu\"))\n",
        "model.add(Dense(1, activation=\"sigmoid\"))"
      ],
      "metadata": {
        "id": "9VIhm_SXwIqJ"
      },
      "execution_count": null,
      "outputs": []
    },
    {
      "cell_type": "code",
      "source": [
        "model.compile(loss=\"binary_crossentropy\", optimizer=\"adam\", metrics=[\"accuracy\"])\n",
        "\n",
        "\n",
        "model.fit(X_train, y_train, epochs=50, batch_size=32, verbose=2)"
      ],
      "metadata": {
        "colab": {
          "base_uri": "https://localhost:8080/"
        },
        "id": "ECEqhScJwQQY",
        "outputId": "2051df49-700f-4d27-8287-e262e8a53f53"
      },
      "execution_count": null,
      "outputs": [
        {
          "output_type": "stream",
          "name": "stdout",
          "text": [
            "Epoch 1/50\n",
            "1/1 - 1s - loss: 60.5360 - accuracy: 0.0833 - 1s/epoch - 1s/step\n",
            "Epoch 2/50\n",
            "1/1 - 0s - loss: 50.0100 - accuracy: 0.0833 - 8ms/epoch - 8ms/step\n",
            "Epoch 3/50\n",
            "1/1 - 0s - loss: 39.6023 - accuracy: 0.0833 - 8ms/epoch - 8ms/step\n",
            "Epoch 4/50\n",
            "1/1 - 0s - loss: 29.3125 - accuracy: 0.0833 - 13ms/epoch - 13ms/step\n",
            "Epoch 5/50\n",
            "1/1 - 0s - loss: 19.4016 - accuracy: 0.0833 - 11ms/epoch - 11ms/step\n",
            "Epoch 6/50\n",
            "1/1 - 0s - loss: 13.0617 - accuracy: 0.0833 - 9ms/epoch - 9ms/step\n",
            "Epoch 7/50\n",
            "1/1 - 0s - loss: 8.1280 - accuracy: 0.0833 - 9ms/epoch - 9ms/step\n",
            "Epoch 8/50\n",
            "1/1 - 0s - loss: 7.2006 - accuracy: 0.0833 - 8ms/epoch - 8ms/step\n",
            "Epoch 9/50\n",
            "1/1 - 0s - loss: 5.2767 - accuracy: 0.0833 - 7ms/epoch - 7ms/step\n",
            "Epoch 10/50\n",
            "1/1 - 0s - loss: 2.5387 - accuracy: 0.0833 - 7ms/epoch - 7ms/step\n",
            "Epoch 11/50\n",
            "1/1 - 0s - loss: -4.4686e-01 - accuracy: 0.0417 - 7ms/epoch - 7ms/step\n",
            "Epoch 12/50\n",
            "1/1 - 0s - loss: -3.3042e+00 - accuracy: 0.0417 - 7ms/epoch - 7ms/step\n",
            "Epoch 13/50\n",
            "1/1 - 0s - loss: -6.0888e+00 - accuracy: 0.0417 - 7ms/epoch - 7ms/step\n",
            "Epoch 14/50\n",
            "1/1 - 0s - loss: -8.8393e+00 - accuracy: 0.0417 - 7ms/epoch - 7ms/step\n",
            "Epoch 15/50\n",
            "1/1 - 0s - loss: -1.1519e+01 - accuracy: 0.0417 - 7ms/epoch - 7ms/step\n",
            "Epoch 16/50\n",
            "1/1 - 0s - loss: -1.4065e+01 - accuracy: 0.0417 - 7ms/epoch - 7ms/step\n",
            "Epoch 17/50\n",
            "1/1 - 0s - loss: -1.5992e+01 - accuracy: 0.0417 - 8ms/epoch - 8ms/step\n",
            "Epoch 18/50\n",
            "1/1 - 0s - loss: -1.7457e+01 - accuracy: 0.0417 - 7ms/epoch - 7ms/step\n",
            "Epoch 19/50\n",
            "1/1 - 0s - loss: -1.8978e+01 - accuracy: 0.0417 - 9ms/epoch - 9ms/step\n",
            "Epoch 20/50\n",
            "1/1 - 0s - loss: -2.0603e+01 - accuracy: 0.0417 - 9ms/epoch - 9ms/step\n",
            "Epoch 21/50\n",
            "1/1 - 0s - loss: -2.2364e+01 - accuracy: 0.0417 - 8ms/epoch - 8ms/step\n",
            "Epoch 22/50\n",
            "1/1 - 0s - loss: -2.4248e+01 - accuracy: 0.0417 - 7ms/epoch - 7ms/step\n",
            "Epoch 23/50\n",
            "1/1 - 0s - loss: -2.6246e+01 - accuracy: 0.0417 - 7ms/epoch - 7ms/step\n",
            "Epoch 24/50\n",
            "1/1 - 0s - loss: -2.8330e+01 - accuracy: 0.0417 - 7ms/epoch - 7ms/step\n",
            "Epoch 25/50\n",
            "1/1 - 0s - loss: -3.0451e+01 - accuracy: 0.0417 - 9ms/epoch - 9ms/step\n",
            "Epoch 26/50\n",
            "1/1 - 0s - loss: -3.2499e+01 - accuracy: 0.0417 - 10ms/epoch - 10ms/step\n",
            "Epoch 27/50\n",
            "1/1 - 0s - loss: -3.4163e+01 - accuracy: 0.0417 - 7ms/epoch - 7ms/step\n",
            "Epoch 28/50\n",
            "1/1 - 0s - loss: -3.5543e+01 - accuracy: 0.0417 - 8ms/epoch - 8ms/step\n",
            "Epoch 29/50\n",
            "1/1 - 0s - loss: -3.6976e+01 - accuracy: 0.0417 - 7ms/epoch - 7ms/step\n",
            "Epoch 30/50\n",
            "1/1 - 0s - loss: -3.8600e+01 - accuracy: 0.0417 - 11ms/epoch - 11ms/step\n",
            "Epoch 31/50\n",
            "1/1 - 0s - loss: -4.0411e+01 - accuracy: 0.0417 - 13ms/epoch - 13ms/step\n",
            "Epoch 32/50\n",
            "1/1 - 0s - loss: -4.2399e+01 - accuracy: 0.0417 - 13ms/epoch - 13ms/step\n",
            "Epoch 33/50\n",
            "1/1 - 0s - loss: -4.4555e+01 - accuracy: 0.0417 - 9ms/epoch - 9ms/step\n",
            "Epoch 34/50\n",
            "1/1 - 0s - loss: -4.6867e+01 - accuracy: 0.0417 - 11ms/epoch - 11ms/step\n",
            "Epoch 35/50\n",
            "1/1 - 0s - loss: -4.9231e+01 - accuracy: 0.0417 - 8ms/epoch - 8ms/step\n",
            "Epoch 36/50\n",
            "1/1 - 0s - loss: -5.1446e+01 - accuracy: 0.0417 - 10ms/epoch - 10ms/step\n",
            "Epoch 37/50\n",
            "1/1 - 0s - loss: -5.3549e+01 - accuracy: 0.0417 - 9ms/epoch - 9ms/step\n",
            "Epoch 38/50\n",
            "1/1 - 0s - loss: -5.5645e+01 - accuracy: 0.0417 - 12ms/epoch - 12ms/step\n",
            "Epoch 39/50\n",
            "1/1 - 0s - loss: -5.7802e+01 - accuracy: 0.0417 - 10ms/epoch - 10ms/step\n",
            "Epoch 40/50\n",
            "1/1 - 0s - loss: -6.0103e+01 - accuracy: 0.0417 - 9ms/epoch - 9ms/step\n",
            "Epoch 41/50\n",
            "1/1 - 0s - loss: -6.2558e+01 - accuracy: 0.0417 - 10ms/epoch - 10ms/step\n",
            "Epoch 42/50\n",
            "1/1 - 0s - loss: -6.5149e+01 - accuracy: 0.0417 - 7ms/epoch - 7ms/step\n",
            "Epoch 43/50\n",
            "1/1 - 0s - loss: -6.7827e+01 - accuracy: 0.0417 - 12ms/epoch - 12ms/step\n",
            "Epoch 44/50\n",
            "1/1 - 0s - loss: -7.0549e+01 - accuracy: 0.0417 - 9ms/epoch - 9ms/step\n",
            "Epoch 45/50\n",
            "1/1 - 0s - loss: -7.3270e+01 - accuracy: 0.0417 - 8ms/epoch - 8ms/step\n",
            "Epoch 46/50\n",
            "1/1 - 0s - loss: -7.5995e+01 - accuracy: 0.0417 - 8ms/epoch - 8ms/step\n",
            "Epoch 47/50\n",
            "1/1 - 0s - loss: -7.8751e+01 - accuracy: 0.0417 - 7ms/epoch - 7ms/step\n",
            "Epoch 48/50\n",
            "1/1 - 0s - loss: -8.1634e+01 - accuracy: 0.0417 - 9ms/epoch - 9ms/step\n",
            "Epoch 49/50\n",
            "1/1 - 0s - loss: -8.4684e+01 - accuracy: 0.0417 - 8ms/epoch - 8ms/step\n",
            "Epoch 50/50\n",
            "1/1 - 0s - loss: -8.7871e+01 - accuracy: 0.0417 - 8ms/epoch - 8ms/step\n"
          ]
        },
        {
          "output_type": "execute_result",
          "data": {
            "text/plain": [
              "<keras.callbacks.History at 0x7fc709cc9ea0>"
            ]
          },
          "metadata": {},
          "execution_count": 18
        }
      ]
    },
    {
      "cell_type": "code",
      "source": [
        "#e)\n",
        "\n",
        "#Import the necessary libraries\n",
        "import numpy as np\n",
        "from sklearn.metrics import confusion_matrix\n",
        "import seaborn as sns\n",
        "import matplotlib.pyplot as plt\n",
        "\n",
        "#Create the NumPy array for actual and predicted labels.\n",
        "actual = np.array(\n",
        "['Religion'])\n",
        "predicted = np.array(\n",
        "['Religion'])\n",
        "\n",
        "#compute the confusion matrix.\n",
        "cm = confusion_matrix(actual,predicted)\n",
        "\n",
        "#Plot the confusion matrix.\n",
        "sns.heatmap(cm,\n",
        "\t\t\tannot=True,\n",
        "\t\t\tfmt='g',\n",
        "\t\t\txticklabels=['Islam','Hinduism'],\n",
        "\t\t\tyticklabels=['Islam','Hinduism'])\n",
        "plt.ylabel('Prediction',fontsize=13)\n",
        "plt.xlabel('Actual',fontsize=13)\n",
        "plt.title('Confusion Matrix',fontsize=17)\n",
        "plt.show()\n"
      ],
      "metadata": {
        "colab": {
          "base_uri": "https://localhost:8080/",
          "height": 481
        },
        "id": "OeF5qctybKj3",
        "outputId": "e72ecdaa-ac66-44d8-be80-8e17c8780fb9"
      },
      "execution_count": null,
      "outputs": [
        {
          "output_type": "display_data",
          "data": {
            "text/plain": [
              "<Figure size 640x480 with 2 Axes>"
            ],
            "image/png": "[encoded data removed]"
          },
          "metadata": {}
        }
      ]
    }
  ]
}